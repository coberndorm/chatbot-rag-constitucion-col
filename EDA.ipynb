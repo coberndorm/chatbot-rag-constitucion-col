{
 "cells": [
  {
   "cell_type": "code",
   "execution_count": 1,
   "id": "e23c4551",
   "metadata": {},
   "outputs": [],
   "source": [
    "import json\n",
    "import fitz\n",
    "import re\n",
    "import nltk\n",
    "import sklearn\n",
    "from nltk.corpus import stopwords\n",
    "from nltk.tokenize import word_tokenize\n",
    "from nltk.stem import SnowballStemmer"
   ]
  },
  {
   "cell_type": "code",
   "execution_count": 3,
   "id": "8a13e745",
   "metadata": {},
   "outputs": [],
   "source": [
    "# Cargar PDF\n",
    "doc = fitz.open(\"constitucio-politica-colombia-1991.pdf\")\n",
    "texto_total = \"\"\n",
    "\n",
    "for pagina in doc:\n",
    "    texto_total += pagina.get_text() + \"\\n\"\n",
    "\n",
    "# Dividir por artículos usando expresión regular\n",
    "articulos = re.split(r'(Artículo\\s+\\d+\\.?)', texto_total, flags=re.IGNORECASE)\n",
    "\n",
    "# Combinar encabezado y cuerpo en cada artículo\n",
    "estructura = []\n",
    "for i in range(1, len(articulos), 2):\n",
    "    titulo = articulos[i].strip()\n",
    "    cuerpo = articulos[i+1].strip()\n",
    "    estructura.append({\n",
    "        \"titulo\": titulo,\n",
    "        \"contenido\": cuerpo\n",
    "    })\n",
    "\n",
    "# Guardar en JSON\n",
    "with open(\"articulos.json\", \"w\", encoding=\"utf-8\") as f:\n",
    "    json.dump(estructura, f, ensure_ascii=False, indent=4)\n"
   ]
  },
  {
   "cell_type": "code",
   "execution_count": 4,
   "id": "6d4a1b18",
   "metadata": {},
   "outputs": [],
   "source": [
    "# Cargar datos\n",
    "with open('articulos.json', 'r', encoding='utf-8') as f:\n",
    "    constitucion = json.load(f)"
   ]
  },
  {
   "cell_type": "code",
   "execution_count": 5,
   "id": "c0f7f3bf",
   "metadata": {},
   "outputs": [
    {
     "name": "stderr",
     "output_type": "stream",
     "text": [
      "[nltk_data] Downloading package punkt to C:\\Users\\juan\n",
      "[nltk_data]     esteban\\AppData\\Roaming\\nltk_data...\n",
      "[nltk_data]   Package punkt is already up-to-date!\n",
      "[nltk_data] Downloading package stopwords to C:\\Users\\juan\n",
      "[nltk_data]     esteban\\AppData\\Roaming\\nltk_data...\n",
      "[nltk_data]   Package stopwords is already up-to-date!\n"
     ]
    },
    {
     "data": {
      "text/plain": [
       "True"
      ]
     },
     "execution_count": 5,
     "metadata": {},
     "output_type": "execute_result"
    }
   ],
   "source": [
    "# Descargar recursos de NLTK\n",
    "nltk.download('punkt')\n",
    "nltk.download('stopwords')"
   ]
  },
  {
   "cell_type": "code",
   "execution_count": 6,
   "id": "e1a0c220",
   "metadata": {},
   "outputs": [],
   "source": [
    "# Configurar stemmer en español\n",
    "stemmer = SnowballStemmer('spanish')\n",
    "stop_words = set(stopwords.words('spanish'))"
   ]
  },
  {
   "cell_type": "code",
   "execution_count": 7,
   "id": "90925298",
   "metadata": {},
   "outputs": [],
   "source": [
    "# Función para limpiar texto\n",
    "def limpiar_texto(texto):\n",
    "    texto = texto.lower()\n",
    "    texto = re.sub(r'[^\\w\\s]', '', texto)\n",
    "    tokens = word_tokenize(texto, language='spanish')\n",
    "    tokens = [stemmer.stem(word) for word in tokens if word not in stop_words]\n",
    "    return ' '.join(tokens)"
   ]
  },
  {
   "cell_type": "code",
   "execution_count": 8,
   "id": "af9247b4",
   "metadata": {},
   "outputs": [],
   "source": [
    "# Limpiar artículos\n",
    "articulos_limpios = {}\n",
    "\n",
    "for articulo in constitucion:\n",
    "    titulo = articulo[\"titulo\"]\n",
    "    texto = articulo[\"contenido\"]\n",
    "    articulos_limpios[titulo] = limpiar_texto(texto)\n"
   ]
  },
  {
   "cell_type": "code",
   "execution_count": 9,
   "id": "2672a79b",
   "metadata": {},
   "outputs": [
    {
     "name": "stderr",
     "output_type": "stream",
     "text": [
      "c:\\Users\\juan esteban\\Documents\\machine learning aplicado\\venv\\Lib\\site-packages\\tqdm\\auto.py:21: TqdmWarning: IProgress not found. Please update jupyter and ipywidgets. See https://ipywidgets.readthedocs.io/en/stable/user_install.html\n",
      "  from .autonotebook import tqdm as notebook_tqdm\n",
      "c:\\Users\\juan esteban\\Documents\\machine learning aplicado\\venv\\Lib\\site-packages\\huggingface_hub\\file_download.py:144: UserWarning: `huggingface_hub` cache-system uses symlinks by default to efficiently store duplicated files but your machine does not support them in C:\\Users\\juan esteban\\.cache\\huggingface\\hub\\models--sentence-transformers--distiluse-base-multilingual-cased-v1. Caching files will still work but in a degraded version that might require more space on your disk. This warning can be disabled by setting the `HF_HUB_DISABLE_SYMLINKS_WARNING` environment variable. For more details, see https://huggingface.co/docs/huggingface_hub/how-to-cache#limitations.\n",
      "To support symlinks on Windows, you either need to activate Developer Mode or to run Python as an administrator. In order to activate developer mode, see this article: https://docs.microsoft.com/en-us/windows/apps/get-started/enable-your-device-for-development\n",
      "  warnings.warn(message)\n"
     ]
    }
   ],
   "source": [
    "from sentence_transformers import SentenceTransformer\n",
    "\n",
    "# Cargar modelo preentrenado para español\n",
    "modelo = SentenceTransformer('distiluse-base-multilingual-cased-v1')\n",
    "\n",
    "# Crear vectores de los artículos\n",
    "vectores_articulos = {}\n",
    "textos_originales = {}\n",
    "\n",
    "for articulo in constitucion:\n",
    "    num = articulo[\"titulo\"]\n",
    "    texto_original = articulo[\"contenido\"]\n",
    "\n",
    "    textos_originales[num] = texto_original\n",
    "    embedding = modelo.encode(texto_original)\n",
    "    vectores_articulos[num] = embedding"
   ]
  },
  {
   "cell_type": "code",
   "execution_count": null,
   "id": "28669289",
   "metadata": {},
   "outputs": [],
   "source": []
  }
 ],
 "metadata": {
  "kernelspec": {
   "display_name": "venv",
   "language": "python",
   "name": "python3"
  },
  "language_info": {
   "codemirror_mode": {
    "name": "ipython",
    "version": 3
   },
   "file_extension": ".py",
   "mimetype": "text/x-python",
   "name": "python",
   "nbconvert_exporter": "python",
   "pygments_lexer": "ipython3",
   "version": "3.13.2"
  }
 },
 "nbformat": 4,
 "nbformat_minor": 5
}
