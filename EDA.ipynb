{
 "cells": [
  {
   "cell_type": "code",
   "execution_count": 12,
   "id": "e23c4551",
   "metadata": {},
   "outputs": [],
   "source": [
    "import json\n",
    "import fitz\n",
    "import re\n",
    "import nltk\n",
    "import sklearn\n",
    "from nltk.corpus import stopwords\n",
    "from nltk.tokenize import word_tokenize\n",
    "from nltk.stem import SnowballStemmer\n",
    "import numpy as np\n",
    "import pandas as pd"
   ]
  },
  {
   "cell_type": "code",
   "execution_count": 3,
   "id": "8a13e745",
   "metadata": {},
   "outputs": [],
   "source": [
    "# Cargar PDF\n",
    "doc = fitz.open(\"constitucio-politica-colombia-1991.pdf\")\n",
    "texto_total = \"\"\n",
    "\n",
    "for pagina in doc:\n",
    "    texto_total += pagina.get_text() + \"\\n\"\n",
    "\n",
    "# Dividir por artículos usando expresión regular\n",
    "articulos = re.split(r'(Artículo\\s+\\d+\\.?)', texto_total, flags=re.IGNORECASE)\n",
    "\n",
    "# Combinar encabezado y cuerpo en cada artículo\n",
    "estructura = []\n",
    "for i in range(1, len(articulos), 2):\n",
    "    titulo = articulos[i].strip()\n",
    "    cuerpo = articulos[i+1].strip()\n",
    "    estructura.append({\n",
    "        \"titulo\": titulo,\n",
    "        \"contenido\": cuerpo\n",
    "    })\n",
    "\n",
    "# Guardar en JSON\n",
    "with open(\"articulos.json\", \"w\", encoding=\"utf-8\") as f:\n",
    "    json.dump(estructura, f, ensure_ascii=False, indent=4)\n"
   ]
  },
  {
   "cell_type": "code",
   "execution_count": 4,
   "id": "6d4a1b18",
   "metadata": {},
   "outputs": [],
   "source": [
    "# Cargar datos\n",
    "with open('articulos.json', 'r', encoding='utf-8') as f:\n",
    "    constitucion = json.load(f)"
   ]
  },
  {
   "cell_type": "code",
   "execution_count": 5,
   "id": "c0f7f3bf",
   "metadata": {},
   "outputs": [
    {
     "name": "stderr",
     "output_type": "stream",
     "text": [
      "[nltk_data] Downloading package punkt to C:\\Users\\juan\n",
      "[nltk_data]     esteban\\AppData\\Roaming\\nltk_data...\n",
      "[nltk_data]   Package punkt is already up-to-date!\n",
      "[nltk_data] Downloading package stopwords to C:\\Users\\juan\n",
      "[nltk_data]     esteban\\AppData\\Roaming\\nltk_data...\n",
      "[nltk_data]   Package stopwords is already up-to-date!\n"
     ]
    },
    {
     "data": {
      "text/plain": [
       "True"
      ]
     },
     "execution_count": 5,
     "metadata": {},
     "output_type": "execute_result"
    }
   ],
   "source": [
    "# Descargar recursos de NLTK\n",
    "nltk.download('punkt')\n",
    "nltk.download('stopwords')"
   ]
  },
  {
   "cell_type": "code",
   "execution_count": 6,
   "id": "e1a0c220",
   "metadata": {},
   "outputs": [],
   "source": [
    "# Configurar stemmer en español\n",
    "stemmer = SnowballStemmer('spanish')\n",
    "stop_words = set(stopwords.words('spanish'))"
   ]
  },
  {
   "cell_type": "code",
   "execution_count": 7,
   "id": "90925298",
   "metadata": {},
   "outputs": [],
   "source": [
    "# Función para limpiar texto\n",
    "def limpiar_texto(texto):\n",
    "    texto = texto.lower()\n",
    "    texto = re.sub(r'[^\\w\\s]', '', texto)\n",
    "    tokens = word_tokenize(texto, language='spanish')\n",
    "    tokens = [stemmer.stem(word) for word in tokens if word not in stop_words]\n",
    "    return ' '.join(tokens)"
   ]
  },
  {
   "cell_type": "code",
   "execution_count": 8,
   "id": "af9247b4",
   "metadata": {},
   "outputs": [],
   "source": [
    "# Limpiar artículos\n",
    "articulos_limpios = {}\n",
    "\n",
    "for articulo in constitucion:\n",
    "    titulo = articulo[\"titulo\"]\n",
    "    texto = articulo[\"contenido\"]\n",
    "    articulos_limpios[titulo] = limpiar_texto(texto)\n"
   ]
  },
  {
   "cell_type": "code",
   "execution_count": 11,
   "id": "f1255648",
   "metadata": {},
   "outputs": [
    {
     "name": "stdout",
     "output_type": "stream",
     "text": [
      "Número de artículos encontrados: 417\n"
     ]
    }
   ],
   "source": [
    "with open(\"articulos.json\", \"r\", encoding=\"utf-8\") as f:\n",
    "    data = json.load(f)\n",
    "\n",
    "# Conteo de artículos\n",
    "conteo_articulos = sum(1 for item in data if item.get(\"titulo\", \"\").lower().startswith(\"artículo\"))\n",
    "print(f\"Número de artículos encontrados: {conteo_articulos}\")\n",
    "\n"
   ]
  },
  {
   "cell_type": "code",
   "execution_count": 13,
   "id": "6ee3b052",
   "metadata": {},
   "outputs": [
    {
     "name": "stdout",
     "output_type": "stream",
     "text": [
      "        n_palabras  n_caracteres  n_oraciones\n",
      "count   417.000000    417.000000   417.000000\n",
      "mean     93.429257    614.980815     4.441247\n",
      "std     126.123586    835.032930     6.872956\n",
      "min       0.000000      0.000000     0.000000\n",
      "25%      34.000000    221.000000     1.000000\n",
      "50%      58.000000    384.000000     2.000000\n",
      "75%     108.000000    735.000000     5.000000\n",
      "max    1518.000000   9989.000000    71.000000\n"
     ]
    }
   ],
   "source": [
    "df = pd.DataFrame(data)\n",
    "df['n_palabras'] = df['contenido'].apply(lambda x: len(x.split()))\n",
    "df['n_caracteres'] = df['contenido'].apply(len)\n",
    "df['n_oraciones'] = df['contenido'].apply(lambda x: len(re.findall(r'[.!?]', x)))\n",
    "\n",
    "# Estadísticas descriptivas\n",
    "print(df[['n_palabras', 'n_caracteres', 'n_oraciones']].describe())"
   ]
  },
  {
   "cell_type": "code",
   "execution_count": 15,
   "id": "34ca59f4",
   "metadata": {},
   "outputs": [
    {
     "name": "stdout",
     "output_type": "stream",
     "text": [
      "Total de palabras: 38959\n",
      "Palabras únicas: 4277\n",
      "Densidad léxica: 0.1098\n",
      "Palabras más frecuentes:\n",
      "[('de', 3060), ('la', 2128), ('y', 1463), ('el', 1284), ('los', 1239), ('en', 948), ('las', 905), ('a', 746), ('que', 730), ('del', 608), ('por', 509), ('o', 439), ('ley', 399), ('para', 380), ('se', 374), ('con', 326), ('su', 276), ('no', 232), ('al', 218), ('estado', 188)]\n"
     ]
    }
   ],
   "source": [
    "from collections import Counter\n",
    "import re\n",
    "\n",
    "# Unir todo el texto\n",
    "corpus = ' '.join(df['contenido']).lower()\n",
    "tokens = re.findall(r'\\w+', corpus)\n",
    "\n",
    "total_palabras = len(tokens)\n",
    "palabras_unicas = set(tokens)\n",
    "densidad_lexica = len(palabras_unicas) / total_palabras\n",
    "frecuencia = Counter(tokens)\n",
    "\n",
    "print(f\"Total de palabras: {total_palabras}\")\n",
    "print(f\"Palabras únicas: {len(palabras_unicas)}\")\n",
    "print(f\"Densidad léxica: {densidad_lexica:.4f}\")\n",
    "print(\"Palabras más frecuentes:\")\n",
    "print(frecuencia.most_common(20))\n"
   ]
  },
  {
   "cell_type": "code",
   "execution_count": 16,
   "id": "f087b330",
   "metadata": {},
   "outputs": [
    {
     "name": "stdout",
     "output_type": "stream",
     "text": [
      "Palabras únicas (sin stopwords): 4087\n",
      "Top 20 palabras sin stopwords:\n",
      "[('ley', 399), ('podrá', 179), ('república', 157), ('gobierno', 155), ('congreso', 134), ('nacional', 130), ('constitución', 126), ('presidente', 118), ('funciones', 116), ('ser', 114), ('general', 99), ('artículo', 94), ('entidades', 92), ('derecho', 89), ('podrán', 89), ('nación', 87), ('corte', 82), ('ejercicio', 79), ('derechos', 77), ('público', 77)]\n"
     ]
    },
    {
     "name": "stderr",
     "output_type": "stream",
     "text": [
      "[nltk_data] Downloading package stopwords to C:\\Users\\juan\n",
      "[nltk_data]     esteban\\AppData\\Roaming\\nltk_data...\n",
      "[nltk_data]   Package stopwords is already up-to-date!\n"
     ]
    }
   ],
   "source": [
    "import nltk\n",
    "from nltk.corpus import stopwords\n",
    "from collections import Counter\n",
    "import re\n",
    "\n",
    "# Descargar las stopwords si no lo has hecho\n",
    "nltk.download('stopwords')\n",
    "stopwords_es = set(stopwords.words('spanish'))\n",
    "\n",
    "# Tokenizar y filtrar\n",
    "tokens = re.findall(r'\\w+', corpus.lower())\n",
    "tokens_filtrados = [t for t in tokens if t not in stopwords_es and len(t) > 2]\n",
    "\n",
    "# Análisis\n",
    "frecuencia = Counter(tokens_filtrados)\n",
    "print(f\"Palabras únicas (sin stopwords): {len(set(tokens_filtrados))}\")\n",
    "print(\"Top 20 palabras sin stopwords:\")\n",
    "print(frecuencia.most_common(20))\n"
   ]
  },
  {
   "cell_type": "code",
   "execution_count": null,
   "id": "fb6d5d14",
   "metadata": {},
   "outputs": [
    {
     "name": "stdout",
     "output_type": "stream",
     "text": [
      "Top 20 n-gramas más frecuentes (sin stopwords):\n",
      "presidente república: 88\n",
      "artículo transitorio: 63\n",
      "general nación: 42\n",
      "corte constitucional: 38\n",
      "entidades territoriales: 36\n",
      "corte suprema: 32\n",
      "corte suprema justicia: 31\n",
      "suprema justicia: 31\n",
      "constitución ley: 30\n",
      "podrá ser: 30\n",
      "ley podrá: 29\n",
      "determine ley: 26\n",
      "establezca ley: 26\n",
      "partidos movimientos: 25\n",
      "gobierno nacional: 24\n",
      "señale ley: 24\n",
      "ley determinará: 23\n",
      "servicios públicos: 23\n",
      "podrán ser: 19\n",
      "constitución leyes: 18\n"
     ]
    },
    {
     "name": "stderr",
     "output_type": "stream",
     "text": [
      "[nltk_data] Downloading package stopwords to C:\\Users\\juan\n",
      "[nltk_data]     esteban\\AppData\\Roaming\\nltk_data...\n",
      "[nltk_data]   Package stopwords is already up-to-date!\n"
     ]
    }
   ],
   "source": [
    "import nltk\n",
    "from sklearn.feature_extraction.text import CountVectorizer\n",
    "from nltk.corpus import stopwords\n",
    "\n",
    "# Descargar stopwords \n",
    "nltk.download('stopwords')\n",
    "stopwords_es = stopwords.words('spanish')\n",
    "\n",
    "# Crear vectorizador con las stopwords personalizadas\n",
    "vectorizer = CountVectorizer(stop_words=stopwords_es, ngram_range=(2, 3), min_df=2)\n",
    "\n",
    "# Ajustar al corpus (lista de contenidos)\n",
    "corpus = df['contenido'].tolist()\n",
    "X = vectorizer.fit_transform(corpus)\n",
    "\n",
    "# Obtener n-gramas y sus frecuencias\n",
    "frecuencias = X.toarray().sum(axis=0)\n",
    "ngramas = vectorizer.get_feature_names_out()\n",
    "resultados = sorted(zip(ngramas, frecuencias), key=lambda x: x[1], reverse=True)\n",
    "\n",
    "# Mostrar top 20\n",
    "print(\"Top 20 n-gramas más frecuentes (sin stopwords):\")\n",
    "for ngrama, freq in resultados[:20]:\n",
    "    print(f\"{ngrama}: {freq}\")\n"
   ]
  },
  {
   "cell_type": "code",
   "execution_count": 19,
   "id": "2af81787",
   "metadata": {},
   "outputs": [
    {
     "data": {
      "image/png": "[encoded data removed]",
      "text/plain": [
       "<Figure size 1000x600 with 1 Axes>"
      ]
     },
     "metadata": {},
     "output_type": "display_data"
    }
   ],
   "source": [
    "import matplotlib.pyplot as plt\n",
    "\n",
    "top_ngrams = resultados[:15]\n",
    "ng_textos, ng_freqs = zip(*top_ngrams)\n",
    "\n",
    "plt.figure(figsize=(10, 6))\n",
    "plt.barh(ng_textos[::-1], ng_freqs[::-1])\n",
    "plt.title(\"Top 15 n-gramas más frecuentes\")\n",
    "plt.xlabel(\"Frecuencia\")\n",
    "plt.tight_layout()\n",
    "plt.show()"
   ]
  },
  {
   "cell_type": "code",
   "execution_count": 9,
   "id": "2672a79b",
   "metadata": {},
   "outputs": [
    {
     "name": "stderr",
     "output_type": "stream",
     "text": [
      "c:\\Users\\juan esteban\\Documents\\machine learning aplicado\\venv\\Lib\\site-packages\\tqdm\\auto.py:21: TqdmWarning: IProgress not found. Please update jupyter and ipywidgets. See https://ipywidgets.readthedocs.io/en/stable/user_install.html\n",
      "  from .autonotebook import tqdm as notebook_tqdm\n",
      "c:\\Users\\juan esteban\\Documents\\machine learning aplicado\\venv\\Lib\\site-packages\\huggingface_hub\\file_download.py:144: UserWarning: `huggingface_hub` cache-system uses symlinks by default to efficiently store duplicated files but your machine does not support them in C:\\Users\\juan esteban\\.cache\\huggingface\\hub\\models--sentence-transformers--distiluse-base-multilingual-cased-v1. Caching files will still work but in a degraded version that might require more space on your disk. This warning can be disabled by setting the `HF_HUB_DISABLE_SYMLINKS_WARNING` environment variable. For more details, see https://huggingface.co/docs/huggingface_hub/how-to-cache#limitations.\n",
      "To support symlinks on Windows, you either need to activate Developer Mode or to run Python as an administrator. In order to activate developer mode, see this article: https://docs.microsoft.com/en-us/windows/apps/get-started/enable-your-device-for-development\n",
      "  warnings.warn(message)\n"
     ]
    }
   ],
   "source": [
    "from sentence_transformers import SentenceTransformer\n",
    "\n",
    "# Cargar modelo preentrenado para español\n",
    "modelo = SentenceTransformer('distiluse-base-multilingual-cased-v1')\n",
    "\n",
    "# Crear vectores de los artículos\n",
    "vectores_articulos = {}\n",
    "textos_originales = {}\n",
    "\n",
    "for articulo in constitucion:\n",
    "    num = articulo[\"titulo\"]\n",
    "    texto_original = articulo[\"contenido\"]\n",
    "\n",
    "    textos_originales[num] = texto_original\n",
    "    embedding = modelo.encode(texto_original)\n",
    "    vectores_articulos[num] = embedding"
   ]
  },
  {
   "cell_type": "code",
   "execution_count": null,
   "id": "28669289",
   "metadata": {},
   "outputs": [],
   "source": []
  }
 ],
 "metadata": {
  "kernelspec": {
   "display_name": "venv",
   "language": "python",
   "name": "python3"
  },
  "language_info": {
   "codemirror_mode": {
    "name": "ipython",
    "version": 3
   },
   "file_extension": ".py",
   "mimetype": "text/x-python",
   "name": "python",
   "nbconvert_exporter": "python",
   "pygments_lexer": "ipython3",
   "version": "3.13.2"
  }
 },
 "nbformat": 4,
 "nbformat_minor": 5
}
